{
 "cells": [
  {
   "cell_type": "markdown",
   "metadata": {},
   "source": [
    "# python assesment\n",
    "It's not clear may i use pandas or something else, so i will make two variants"
   ]
  },
  {
   "cell_type": "markdown",
   "metadata": {},
   "source": [
    "## Extract and transform\n",
    "first, we need to extract all non empty contracts fields and transform data before we can calculate our features"
   ]
  },
  {
   "cell_type": "code",
   "execution_count": 78,
   "metadata": {},
   "outputs": [],
   "source": [
    "import csv\n",
    "import json\n",
    "import pandas as pd\n",
    "import numpy as np\n",
    "from datetime import datetime, timedelta"
   ]
  },
  {
   "cell_type": "code",
   "execution_count": 23,
   "metadata": {},
   "outputs": [],
   "source": [
    "# Here we make a flat array with dicts from contracts field\n",
    "result = {}\n",
    "cleared = []\n",
    "\n",
    "with open(\"data.csv\", \"r\") as f:\n",
    "    reader = csv.reader(f, delimiter=\",\")\n",
    "    for i, line in enumerate(reader):\n",
    "        if line[2] and i != 0:\n",
    "            for item in json.loads(line[2]):\n",
    "                cleared.append(item)"
   ]
  },
  {
   "cell_type": "code",
   "execution_count": 24,
   "metadata": {},
   "outputs": [
    {
     "data": {
      "text/html": [
       "<div>\n",
       "<style scoped>\n",
       "    .dataframe tbody tr th:only-of-type {\n",
       "        vertical-align: middle;\n",
       "    }\n",
       "\n",
       "    .dataframe tbody tr th {\n",
       "        vertical-align: top;\n",
       "    }\n",
       "\n",
       "    .dataframe thead th {\n",
       "        text-align: right;\n",
       "    }\n",
       "</style>\n",
       "<table border=\"1\" class=\"dataframe\">\n",
       "  <thead>\n",
       "    <tr style=\"text-align: right;\">\n",
       "      <th></th>\n",
       "      <th>contract_id</th>\n",
       "      <th>bank</th>\n",
       "      <th>summa</th>\n",
       "      <th>loan_summa</th>\n",
       "      <th>claim_date</th>\n",
       "      <th>claim_id</th>\n",
       "      <th>contract_date</th>\n",
       "    </tr>\n",
       "  </thead>\n",
       "  <tbody>\n",
       "    <tr>\n",
       "      <th>0</th>\n",
       "      <td>522530</td>\n",
       "      <td>003</td>\n",
       "      <td>500000000</td>\n",
       "      <td>0</td>\n",
       "      <td>13.02.2020</td>\n",
       "      <td>609965</td>\n",
       "      <td>17.02.2020</td>\n",
       "    </tr>\n",
       "    <tr>\n",
       "      <th>1</th>\n",
       "      <td></td>\n",
       "      <td>014</td>\n",
       "      <td></td>\n",
       "      <td></td>\n",
       "      <td>28.08.2020</td>\n",
       "      <td>F00013731</td>\n",
       "      <td></td>\n",
       "    </tr>\n",
       "    <tr>\n",
       "      <th>2</th>\n",
       "      <td></td>\n",
       "      <td>014</td>\n",
       "      <td></td>\n",
       "      <td></td>\n",
       "      <td>08.10.2020</td>\n",
       "      <td>F00021301</td>\n",
       "      <td></td>\n",
       "    </tr>\n",
       "    <tr>\n",
       "      <th>3</th>\n",
       "      <td></td>\n",
       "      <td>014</td>\n",
       "      <td></td>\n",
       "      <td></td>\n",
       "      <td>25.11.2020</td>\n",
       "      <td>F00037907</td>\n",
       "      <td></td>\n",
       "    </tr>\n",
       "    <tr>\n",
       "      <th>4</th>\n",
       "      <td></td>\n",
       "      <td>053</td>\n",
       "      <td></td>\n",
       "      <td></td>\n",
       "      <td>09.12.2020</td>\n",
       "      <td>34852</td>\n",
       "      <td></td>\n",
       "    </tr>\n",
       "  </tbody>\n",
       "</table>\n",
       "</div>"
      ],
      "text/plain": [
       "  contract_id bank      summa loan_summa  claim_date   claim_id contract_date\n",
       "0      522530  003  500000000          0  13.02.2020     609965    17.02.2020\n",
       "1              014                        28.08.2020  F00013731              \n",
       "2              014                        08.10.2020  F00021301              \n",
       "3              014                        25.11.2020  F00037907              \n",
       "4              053                        09.12.2020      34852              "
      ]
     },
     "execution_count": 24,
     "metadata": {},
     "output_type": "execute_result"
    }
   ],
   "source": [
    "# create Pandas DataFrame and remove duplicates\n",
    "df = pd.json_normalize(cleared).drop_duplicates()\n",
    "df.head()"
   ]
  },
  {
   "cell_type": "markdown",
   "metadata": {},
   "source": [
    "## cast types"
   ]
  },
  {
   "cell_type": "code",
   "execution_count": 59,
   "metadata": {},
   "outputs": [
    {
     "data": {
      "text/html": [
       "<div>\n",
       "<style scoped>\n",
       "    .dataframe tbody tr th:only-of-type {\n",
       "        vertical-align: middle;\n",
       "    }\n",
       "\n",
       "    .dataframe tbody tr th {\n",
       "        vertical-align: top;\n",
       "    }\n",
       "\n",
       "    .dataframe thead th {\n",
       "        text-align: right;\n",
       "    }\n",
       "</style>\n",
       "<table border=\"1\" class=\"dataframe\">\n",
       "  <thead>\n",
       "    <tr style=\"text-align: right;\">\n",
       "      <th></th>\n",
       "      <th>contract_id</th>\n",
       "      <th>bank</th>\n",
       "      <th>summa</th>\n",
       "      <th>loan_summa</th>\n",
       "      <th>claim_date</th>\n",
       "      <th>claim_id</th>\n",
       "      <th>contract_date</th>\n",
       "    </tr>\n",
       "  </thead>\n",
       "  <tbody>\n",
       "    <tr>\n",
       "      <th>0</th>\n",
       "      <td>522530</td>\n",
       "      <td>003</td>\n",
       "      <td>500000000.0</td>\n",
       "      <td>0.0</td>\n",
       "      <td>2020-02-13</td>\n",
       "      <td>609965</td>\n",
       "      <td>2020-02-17</td>\n",
       "    </tr>\n",
       "    <tr>\n",
       "      <th>1</th>\n",
       "      <td></td>\n",
       "      <td>014</td>\n",
       "      <td>NaN</td>\n",
       "      <td>NaN</td>\n",
       "      <td>2020-08-28</td>\n",
       "      <td>F00013731</td>\n",
       "      <td>NaT</td>\n",
       "    </tr>\n",
       "    <tr>\n",
       "      <th>2</th>\n",
       "      <td></td>\n",
       "      <td>014</td>\n",
       "      <td>NaN</td>\n",
       "      <td>NaN</td>\n",
       "      <td>2020-10-08</td>\n",
       "      <td>F00021301</td>\n",
       "      <td>NaT</td>\n",
       "    </tr>\n",
       "    <tr>\n",
       "      <th>3</th>\n",
       "      <td></td>\n",
       "      <td>014</td>\n",
       "      <td>NaN</td>\n",
       "      <td>NaN</td>\n",
       "      <td>2020-11-25</td>\n",
       "      <td>F00037907</td>\n",
       "      <td>NaT</td>\n",
       "    </tr>\n",
       "    <tr>\n",
       "      <th>4</th>\n",
       "      <td></td>\n",
       "      <td>053</td>\n",
       "      <td>NaN</td>\n",
       "      <td>NaN</td>\n",
       "      <td>2020-12-09</td>\n",
       "      <td>34852</td>\n",
       "      <td>NaT</td>\n",
       "    </tr>\n",
       "  </tbody>\n",
       "</table>\n",
       "</div>"
      ],
      "text/plain": [
       "  contract_id bank        summa  loan_summa claim_date   claim_id  \\\n",
       "0      522530  003  500000000.0         0.0 2020-02-13     609965   \n",
       "1              014          NaN         NaN 2020-08-28  F00013731   \n",
       "2              014          NaN         NaN 2020-10-08  F00021301   \n",
       "3              014          NaN         NaN 2020-11-25  F00037907   \n",
       "4              053          NaN         NaN 2020-12-09      34852   \n",
       "\n",
       "  contract_date  \n",
       "0    2020-02-17  \n",
       "1           NaT  \n",
       "2           NaT  \n",
       "3           NaT  \n",
       "4           NaT  "
      ]
     },
     "execution_count": 59,
     "metadata": {},
     "output_type": "execute_result"
    }
   ],
   "source": [
    "df['claim_date'] = pd.to_datetime(df['claim_date'],dayfirst=True)\n",
    "df['contract_date'] = pd.to_datetime(df['contract_date'],dayfirst=True)\n",
    "df['summa'] = pd.to_numeric(df['summa'])\n",
    "df['loan_summa'] = pd.to_numeric(df['loan_summa'])\n",
    "df.head()"
   ]
  },
  {
   "cell_type": "markdown",
   "metadata": {},
   "source": [
    "## Feature 1 (tot_claim_cnt_l180d)"
   ]
  },
  {
   "cell_type": "code",
   "execution_count": 60,
   "metadata": {},
   "outputs": [
    {
     "data": {
      "text/plain": [
       "{'tot_claim_cnt_l180d': 1029}"
      ]
     },
     "execution_count": 60,
     "metadata": {},
     "output_type": "execute_result"
    }
   ],
   "source": [
    "filter_1 = df[(df['claim_date'] >= df['claim_date'].max() - timedelta(days=180)) & (df['claim_date'] != pd.NaT)][['claim_id']]\n",
    "tot_claim_cnt_l180d = filter_1.count().item()\n",
    "\n",
    "result['tot_claim_cnt_l180d'] = tot_claim_cnt_l180d if tot_claim_cnt_l180d != 0 else -3\n",
    "result"
   ]
  },
  {
   "cell_type": "markdown",
   "metadata": {},
   "source": [
    "## Feature 2 (disb_bank_loan_wo_tbc)"
   ]
  },
  {
   "cell_type": "code",
   "execution_count": 66,
   "metadata": {},
   "outputs": [
    {
     "data": {
      "text/plain": [
       "{'tot_claim_cnt_l180d': 1029, 'disb_bank_loan_wo_tbc': 258665195778.0}"
      ]
     },
     "execution_count": 66,
     "metadata": {},
     "output_type": "execute_result"
    }
   ],
   "source": [
    "filter_2 = df[(~df['bank'].isin(['LIZ', 'LOM', 'MKO', 'SUG'])) & (df['bank'] != '') & (df['contract_id'] != '')]\n",
    "\n",
    "if filter_2['claim_id'].count().item() == 0:\n",
    "    result['disb_bank_loan_wo_tbc'] = -3\n",
    "elif filter_2['loan_summa'].sum().item() == 0:\n",
    "    result['disb_bank_loan_wo_tbc'] = -1\n",
    "else:\n",
    "    result['disb_bank_loan_wo_tbc'] = filter_2['loan_summa'].sum().item()\n",
    "\n",
    "result"
   ]
  },
  {
   "cell_type": "markdown",
   "metadata": {},
   "source": [
    "## Feature 3 (day_sinlastloan)"
   ]
  },
  {
   "cell_type": "code",
   "execution_count": 85,
   "metadata": {},
   "outputs": [
    {
     "data": {
      "text/plain": [
       "{'tot_claim_cnt_l180d': 1029,\n",
       " 'disb_bank_loan_wo_tbc': 258665195778.0,\n",
       " 'day_sinlastloan': 202}"
      ]
     },
     "execution_count": 85,
     "metadata": {},
     "output_type": "execute_result"
    }
   ],
   "source": [
    "filter_3 = df[~df['summa'].isna()]\n",
    "\n",
    "last_date = filter_3['contract_date'].max()\n",
    "if filter_3['claim_id'].count().item() == 0:\n",
    "    result['day_sinlastloan'] = -3\n",
    "elif filter_3['loan_summa'].sum().item() == 0:\n",
    "    result['day_sinlastloan'] = -1\n",
    "else:\n",
    "    result['day_sinlastloan'] = int((datetime.now() - last_date) / timedelta(days=1))\n",
    "\n",
    "result\n"
   ]
  },
  {
   "cell_type": "markdown",
   "metadata": {},
   "source": [
    "## Write result to csv file"
   ]
  },
  {
   "cell_type": "code",
   "execution_count": 86,
   "metadata": {},
   "outputs": [],
   "source": [
    "result = pd.json_normalize(result)\n",
    "result.to_csv('contract_features.csv', encoding='utf-8', index=False)"
   ]
  }
 ],
 "metadata": {
  "kernelspec": {
   "display_name": "venv",
   "language": "python",
   "name": "python3"
  },
  "language_info": {
   "codemirror_mode": {
    "name": "ipython",
    "version": 3
   },
   "file_extension": ".py",
   "mimetype": "text/x-python",
   "name": "python",
   "nbconvert_exporter": "python",
   "pygments_lexer": "ipython3",
   "version": "3.11.4"
  }
 },
 "nbformat": 4,
 "nbformat_minor": 2
}
